{
 "cells": [
  {
   "cell_type": "code",
   "execution_count": 6,
   "metadata": {},
   "outputs": [
    {
     "ename": "HTTPError",
     "evalue": "429 Client Error: Too Many Requests for url: https://computervsionapi-adnan.cognitiveservices.azure.com/vision/v3.1/analyze?visualFeatures=Categories%2CDescription%2CTags",
     "output_type": "error",
     "traceback": [
      "\u001b[1;31m---------------------------------------------------------------------------\u001b[0m",
      "\u001b[1;31mHTTPError\u001b[0m                                 Traceback (most recent call last)",
      "\u001b[1;32mc:\\Git\\Repos\\Activity-Recognition\\02-PlayVideo.ipynb Cell 5'\u001b[0m in \u001b[0;36m<module>\u001b[1;34m\u001b[0m\n\u001b[0;32m     <a href='vscode-notebook-cell:/c%3A/Git/Repos/Activity-Recognition/02-PlayVideo.ipynb#ch0000005?line=49'>50</a>\u001b[0m cv2\u001b[39m.\u001b[39mimshow(\u001b[39m'\u001b[39m\u001b[39mOriginal\u001b[39m\u001b[39m'\u001b[39m, frame)\n\u001b[0;32m     <a href='vscode-notebook-cell:/c%3A/Git/Repos/Activity-Recognition/02-PlayVideo.ipynb#ch0000005?line=51'>52</a>\u001b[0m \u001b[39mif\u001b[39;00m count \u001b[39m==\u001b[39m interval:\n\u001b[1;32m---> <a href='vscode-notebook-cell:/c%3A/Git/Repos/Activity-Recognition/02-PlayVideo.ipynb#ch0000005?line=52'>53</a>\u001b[0m     display_caption(file_name)\n\u001b[0;32m     <a href='vscode-notebook-cell:/c%3A/Git/Repos/Activity-Recognition/02-PlayVideo.ipynb#ch0000005?line=53'>54</a>\u001b[0m     count \u001b[39m=\u001b[39m \u001b[39m1\u001b[39m\n\u001b[0;32m     <a href='vscode-notebook-cell:/c%3A/Git/Repos/Activity-Recognition/02-PlayVideo.ipynb#ch0000005?line=54'>55</a>\u001b[0m \u001b[39melse\u001b[39;00m:\n",
      "\u001b[1;32mc:\\Git\\Repos\\Activity-Recognition\\02-PlayVideo.ipynb Cell 5'\u001b[0m in \u001b[0;36mdisplay_caption\u001b[1;34m(imageFile)\u001b[0m\n\u001b[0;32m     <a href='vscode-notebook-cell:/c%3A/Git/Repos/Activity-Recognition/02-PlayVideo.ipynb#ch0000005?line=22'>23</a>\u001b[0m params \u001b[39m=\u001b[39m {\u001b[39m'\u001b[39m\u001b[39mvisualFeatures\u001b[39m\u001b[39m'\u001b[39m: \u001b[39m'\u001b[39m\u001b[39mCategories,Description,Tags\u001b[39m\u001b[39m'\u001b[39m}\n\u001b[0;32m     <a href='vscode-notebook-cell:/c%3A/Git/Repos/Activity-Recognition/02-PlayVideo.ipynb#ch0000005?line=23'>24</a>\u001b[0m response \u001b[39m=\u001b[39m requests\u001b[39m.\u001b[39mpost(analyze_url_cv, headers\u001b[39m=\u001b[39mheaders, params\u001b[39m=\u001b[39mparams, data\u001b[39m=\u001b[39mimage_data)\n\u001b[1;32m---> <a href='vscode-notebook-cell:/c%3A/Git/Repos/Activity-Recognition/02-PlayVideo.ipynb#ch0000005?line=24'>25</a>\u001b[0m response\u001b[39m.\u001b[39;49mraise_for_status()\n\u001b[0;32m     <a href='vscode-notebook-cell:/c%3A/Git/Repos/Activity-Recognition/02-PlayVideo.ipynb#ch0000005?line=26'>27</a>\u001b[0m analysis \u001b[39m=\u001b[39m response\u001b[39m.\u001b[39mjson()\n\u001b[0;32m     <a href='vscode-notebook-cell:/c%3A/Git/Repos/Activity-Recognition/02-PlayVideo.ipynb#ch0000005?line=27'>28</a>\u001b[0m image_caption \u001b[39m=\u001b[39m analysis[\u001b[39m\"\u001b[39m\u001b[39mdescription\u001b[39m\u001b[39m\"\u001b[39m][\u001b[39m\"\u001b[39m\u001b[39mcaptions\u001b[39m\u001b[39m\"\u001b[39m][\u001b[39m0\u001b[39m][\u001b[39m\"\u001b[39m\u001b[39mtext\u001b[39m\u001b[39m\"\u001b[39m]\u001b[39m.\u001b[39mcapitalize()\n",
      "File \u001b[1;32mc:\\Python310\\lib\\site-packages\\requests\\models.py:1022\u001b[0m, in \u001b[0;36mResponse.raise_for_status\u001b[1;34m(self)\u001b[0m\n\u001b[0;32m   1017\u001b[0m     http_error_msg \u001b[39m=\u001b[39m (\n\u001b[0;32m   1018\u001b[0m         \u001b[39mf\u001b[39m\u001b[39m\"\u001b[39m\u001b[39m{\u001b[39;00m\u001b[39mself\u001b[39m\u001b[39m.\u001b[39mstatus_code\u001b[39m}\u001b[39;00m\u001b[39m Server Error: \u001b[39m\u001b[39m{\u001b[39;00mreason\u001b[39m}\u001b[39;00m\u001b[39m for url: \u001b[39m\u001b[39m{\u001b[39;00m\u001b[39mself\u001b[39m\u001b[39m.\u001b[39murl\u001b[39m}\u001b[39;00m\u001b[39m\"\u001b[39m\n\u001b[0;32m   1019\u001b[0m     )\n\u001b[0;32m   1021\u001b[0m \u001b[39mif\u001b[39;00m http_error_msg:\n\u001b[1;32m-> 1022\u001b[0m     \u001b[39mraise\u001b[39;00m HTTPError(http_error_msg, response\u001b[39m=\u001b[39m\u001b[39mself\u001b[39m)\n",
      "\u001b[1;31mHTTPError\u001b[0m: 429 Client Error: Too Many Requests for url: https://computervsionapi-adnan.cognitiveservices.azure.com/vision/v3.1/analyze?visualFeatures=Categories%2CDescription%2CTags"
     ]
    },
    {
     "ename": "",
     "evalue": "",
     "output_type": "error",
     "traceback": [
      "\u001b[1;31mThe Kernel crashed while executing code in the the current cell or a previous cell. Please review the code in the cell(s) to identify a possible cause of the failure. Click <a href='https://aka.ms/vscodeJupyterKernelCrash'>here</a> for more info. View Jupyter <a href='command:jupyter.viewOutput'>log</a> for further details."
     ]
    }
   ],
   "source": [
    "# Extended code from https://hub.gke2.mybinder.org/user/microsoft-cogni-e-vision-python-3ukfjyui/notebooks/Jupyter%20Notebook/Computer%20Vision%20API%20Example.ipynb\n",
    "\n",
    "# Import the necessary modules\n",
    "import requests\n",
    "from PIL import Image\n",
    "from io import BytesIO\n",
    "import cv2\n",
    "import time\n",
    "\n",
    "# Key for the Computer Vision API from the 'Keys and Endpoint' section in the Azure portal\n",
    "subscription_key_cv = '<your subscription key>'\n",
    "# URL Endpoint for the Computer Vision API\n",
    "endpoint_cv = '<your endpoint>'\n",
    "# Analyze URL\n",
    "analyze_url_cv = endpoint_cv + \"vision/v3.1/analyze\"\n",
    "\n",
    "# Other variables\n",
    "interval = 5\n",
    "count = 1\n",
    "file_name = 'temp.jpg'\n",
    "\n",
    "# The display_caption function\n",
    "def display_caption(imageFile):\n",
    "    # Read the image into a byte array\n",
    "    image_data = open(imageFile, \"rb\").read()\n",
    "    headers = {'Ocp-Apim-Subscription-Key': subscription_key_cv, 'Content-Type': 'application/octet-stream'}\n",
    "    params = {'visualFeatures': 'Categories,Description,Tags'}\n",
    "    response = requests.post(analyze_url_cv, headers=headers, params=params, data=image_data)\n",
    "    response.raise_for_status()\n",
    "\n",
    "    analysis = response.json()\n",
    "    image_caption = analysis[\"description\"][\"captions\"][0][\"text\"].capitalize()\n",
    "    image_tags = analysis[\"description\"][\"tags\"]\n",
    "    #print(image_tags)\n",
    "\n",
    "    img = cv2.imread(imageFile)\n",
    "    x,y,w,h = 0,25,700,10\n",
    "    cv2.rectangle(img, (x, x), (x + w, y + h), (0,0,0), -1)\n",
    "    cv2.putText(img=img, text=image_caption, org=(10, 25), fontFace=cv2.FONT_HERSHEY_COMPLEX, fontScale=0.7, color=(255, 255, 255),thickness=1)\n",
    "    cv2.imshow('Processed', img)\n",
    "\n",
    "# Capture video from file\n",
    "cap= cv2.VideoCapture('nurse-video.mp4')\n",
    "# Get the frame rate of the video\n",
    "fps= int(cap.get(cv2.CAP_PROP_FPS))\n",
    "\n",
    "while cap.isOpened():\n",
    "    ret,frame= cap.read()\n",
    "\n",
    "    if ret == True:\n",
    "\n",
    "        time.sleep(1/fps)\n",
    "\n",
    "        cv2.imwrite(file_name, frame)\n",
    "\n",
    "        cv2.imshow('Original', frame)\n",
    "\n",
    "        if count == interval:\n",
    "            display_caption(file_name)\n",
    "            count = 1\n",
    "        else:\n",
    "            count += 1\n",
    "\n",
    "        # Press Q on keyboard to exit\n",
    "        if cv2.waitKey(1) & 0xFF == ord('q'):\n",
    "            break\n",
    "\n",
    "    else:\n",
    "        break\n",
    "\n",
    "\n",
    "cap.release()\n",
    "cv2.destroyAllWindows()"
   ]
  }
 ],
 "metadata": {
  "kernelspec": {
   "display_name": "Python 3.10.2 64-bit",
   "language": "python",
   "name": "python3"
  },
  "language_info": {
   "codemirror_mode": {
    "name": "ipython",
    "version": 3
   },
   "file_extension": ".py",
   "mimetype": "text/x-python",
   "name": "python",
   "nbconvert_exporter": "python",
   "pygments_lexer": "ipython3",
   "version": "3.10.2"
  },
  "orig_nbformat": 4,
  "vscode": {
   "interpreter": {
    "hash": "369f2c481f4da34e4445cda3fffd2e751bd1c4d706f27375911949ba6bb62e1c"
   }
  }
 },
 "nbformat": 4,
 "nbformat_minor": 2
}
